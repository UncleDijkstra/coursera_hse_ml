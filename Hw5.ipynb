{
 "cells": [
  {
   "cell_type": "code",
   "execution_count": 1,
   "metadata": {
    "collapsed": true
   },
   "outputs": [],
   "source": [
    "import pandas as pd\n",
    "import numpy as np\n",
    "import matplotlib.pyplot as plt\n",
    "\n",
    "from sklearn.model_selection import train_test_split\n",
    "from sklearn.ensemble import GradientBoostingClassifier\n",
    "from sklearn.metrics import log_loss\n",
    "from sklearn.ensemble import RandomForestRegressor\n",
    "from sklearn.ensemble import RandomForestClassifier\n",
    "from sklearn.metrics import r2_score\n",
    "from sklearn.model_selection import KFold\n",
    "from sklearn.model_selection import cross_val_score\n",
    "%matplotlib inline"
   ]
  },
  {
   "cell_type": "code",
   "execution_count": 2,
   "metadata": {
    "collapsed": true
   },
   "outputs": [],
   "source": [
    "data = pd.read_csv('data/abalone.csv')"
   ]
  },
  {
   "cell_type": "code",
   "execution_count": 3,
   "metadata": {
    "collapsed": true
   },
   "outputs": [],
   "source": [
    "data['Sex'] = data['Sex'].map(lambda x: 1 if x == 'M' else (-1 if x == 'F' else 0))"
   ]
  },
  {
   "cell_type": "code",
   "execution_count": 4,
   "metadata": {},
   "outputs": [
    {
     "data": {
      "text/html": [
       "<div>\n",
       "<style>\n",
       "    .dataframe thead tr:only-child th {\n",
       "        text-align: right;\n",
       "    }\n",
       "\n",
       "    .dataframe thead th {\n",
       "        text-align: left;\n",
       "    }\n",
       "\n",
       "    .dataframe tbody tr th {\n",
       "        vertical-align: top;\n",
       "    }\n",
       "</style>\n",
       "<table border=\"1\" class=\"dataframe\">\n",
       "  <thead>\n",
       "    <tr style=\"text-align: right;\">\n",
       "      <th></th>\n",
       "      <th>Sex</th>\n",
       "      <th>Length</th>\n",
       "      <th>Diameter</th>\n",
       "      <th>Height</th>\n",
       "      <th>WholeWeight</th>\n",
       "      <th>ShuckedWeight</th>\n",
       "      <th>VisceraWeight</th>\n",
       "      <th>ShellWeight</th>\n",
       "      <th>Rings</th>\n",
       "    </tr>\n",
       "  </thead>\n",
       "  <tbody>\n",
       "    <tr>\n",
       "      <th>0</th>\n",
       "      <td>1</td>\n",
       "      <td>0.455</td>\n",
       "      <td>0.365</td>\n",
       "      <td>0.095</td>\n",
       "      <td>0.5140</td>\n",
       "      <td>0.2245</td>\n",
       "      <td>0.1010</td>\n",
       "      <td>0.150</td>\n",
       "      <td>15</td>\n",
       "    </tr>\n",
       "    <tr>\n",
       "      <th>1</th>\n",
       "      <td>1</td>\n",
       "      <td>0.350</td>\n",
       "      <td>0.265</td>\n",
       "      <td>0.090</td>\n",
       "      <td>0.2255</td>\n",
       "      <td>0.0995</td>\n",
       "      <td>0.0485</td>\n",
       "      <td>0.070</td>\n",
       "      <td>7</td>\n",
       "    </tr>\n",
       "    <tr>\n",
       "      <th>2</th>\n",
       "      <td>-1</td>\n",
       "      <td>0.530</td>\n",
       "      <td>0.420</td>\n",
       "      <td>0.135</td>\n",
       "      <td>0.6770</td>\n",
       "      <td>0.2565</td>\n",
       "      <td>0.1415</td>\n",
       "      <td>0.210</td>\n",
       "      <td>9</td>\n",
       "    </tr>\n",
       "    <tr>\n",
       "      <th>3</th>\n",
       "      <td>1</td>\n",
       "      <td>0.440</td>\n",
       "      <td>0.365</td>\n",
       "      <td>0.125</td>\n",
       "      <td>0.5160</td>\n",
       "      <td>0.2155</td>\n",
       "      <td>0.1140</td>\n",
       "      <td>0.155</td>\n",
       "      <td>10</td>\n",
       "    </tr>\n",
       "    <tr>\n",
       "      <th>4</th>\n",
       "      <td>0</td>\n",
       "      <td>0.330</td>\n",
       "      <td>0.255</td>\n",
       "      <td>0.080</td>\n",
       "      <td>0.2050</td>\n",
       "      <td>0.0895</td>\n",
       "      <td>0.0395</td>\n",
       "      <td>0.055</td>\n",
       "      <td>7</td>\n",
       "    </tr>\n",
       "  </tbody>\n",
       "</table>\n",
       "</div>"
      ],
      "text/plain": [
       "   Sex  Length  Diameter  Height  WholeWeight  ShuckedWeight  VisceraWeight  \\\n",
       "0    1   0.455     0.365   0.095       0.5140         0.2245         0.1010   \n",
       "1    1   0.350     0.265   0.090       0.2255         0.0995         0.0485   \n",
       "2   -1   0.530     0.420   0.135       0.6770         0.2565         0.1415   \n",
       "3    1   0.440     0.365   0.125       0.5160         0.2155         0.1140   \n",
       "4    0   0.330     0.255   0.080       0.2050         0.0895         0.0395   \n",
       "\n",
       "   ShellWeight  Rings  \n",
       "0        0.150     15  \n",
       "1        0.070      7  \n",
       "2        0.210      9  \n",
       "3        0.155     10  \n",
       "4        0.055      7  "
      ]
     },
     "execution_count": 4,
     "metadata": {},
     "output_type": "execute_result"
    }
   ],
   "source": [
    "data.head()"
   ]
  },
  {
   "cell_type": "code",
   "execution_count": 5,
   "metadata": {
    "collapsed": true
   },
   "outputs": [],
   "source": [
    "y = data['Rings']\n",
    "x = data.drop('Rings', axis=1)"
   ]
  },
  {
   "cell_type": "code",
   "execution_count": 6,
   "metadata": {},
   "outputs": [
    {
     "name": "stdout",
     "output_type": "stream",
     "text": [
      "[(1, 0.10213869487724367), (2, 0.33841675515802144), (3, 0.40357984946186909), (4, 0.44272239896668103), (5, 0.46402076606749693), (6, 0.47058163275877918), (7, 0.47583061635230062), (8, 0.4817418456255852), (9, 0.4883478130215681), (11, 0.4933965550001963), (10, 0.49446412480247826), (12, 0.49796587639761541), (13, 0.50213646057228534), (14, 0.50642869622573283), (15, 0.50833119704321006), (16, 0.51051314383221469), (17, 0.51384829479930283), (18, 0.51632754127394931), (20, 0.51867359287238224), (19, 0.51903468813638798), (21, 0.51983542335425015), (22, 0.52015835367222107), (23, 0.52101727093662509), (24, 0.52240318258080909), (25, 0.52261746396760711), (26, 0.52380615817170517), (27, 0.52412235221889814), (28, 0.52505374512324399), (29, 0.52597037563489313), (30, 0.52653782166757546), (31, 0.52709985443060225), (45, 0.52837546602772023), (32, 0.52838940820927838), (46, 0.52852042754934581), (47, 0.52870494457919082), (40, 0.52906701596316297), (44, 0.52911923375632508), (37, 0.52913141344745995), (38, 0.52916025763348329), (39, 0.52924098102743389), (41, 0.52934200569111833), (43, 0.52937549466485323), (35, 0.52951724744047302), (34, 0.52956395544383794), (42, 0.52957320653375461), (36, 0.5295996267890184), (48, 0.52961275154377341), (33, 0.52961655612292768), (49, 0.53039445544344976), (50, 0.53059634353945351)]\n"
     ]
    }
   ],
   "source": [
    "scores = []\n",
    "for n in range(1, 51):\n",
    "    model = RandomForestRegressor(n, random_state=1)\n",
    "    kf = KFold(n_splits=5, shuffle=True, random_state=1)\n",
    "    score = cross_val_score(model, x, y, cv=kf, scoring='r2')\n",
    "    scores.append((n, np.mean(score)))\n",
    "print(sorted(scores, key=lambda x: x[1]))"
   ]
  },
  {
   "cell_type": "code",
   "execution_count": 7,
   "metadata": {},
   "outputs": [
    {
     "name": "stdout",
     "output_type": "stream",
     "text": [
      "1 0.1\n",
      "2 0.34\n",
      "3 0.4\n",
      "4 0.44\n",
      "5 0.46\n",
      "6 0.47\n",
      "7 0.48\n",
      "8 0.48\n",
      "9 0.49\n",
      "11 0.49\n",
      "10 0.49\n",
      "12 0.5\n",
      "13 0.5\n",
      "14 0.51\n",
      "15 0.51\n",
      "16 0.51\n",
      "17 0.51\n",
      "18 0.52\n",
      "20 0.52\n",
      "19 0.52\n",
      "21 0.52\n",
      "22 0.52\n",
      "23 0.52\n",
      "24 0.52\n",
      "25 0.52\n",
      "26 0.52\n",
      "27 0.52\n",
      "28 0.53\n",
      "29 0.53\n",
      "30 0.53\n",
      "31 0.53\n",
      "45 0.53\n",
      "32 0.53\n",
      "46 0.53\n",
      "47 0.53\n",
      "40 0.53\n",
      "44 0.53\n",
      "37 0.53\n",
      "38 0.53\n",
      "39 0.53\n",
      "41 0.53\n",
      "43 0.53\n",
      "35 0.53\n",
      "34 0.53\n",
      "42 0.53\n",
      "36 0.53\n",
      "48 0.53\n",
      "33 0.53\n",
      "49 0.53\n",
      "50 0.53\n"
     ]
    }
   ],
   "source": [
    "for pair in sorted(scores, key=lambda x: x[1]):\n",
    "    print(pair[0], pair[1].round(2))"
   ]
  },
  {
   "cell_type": "markdown",
   "metadata": {},
   "source": [
    "## Задание 2"
   ]
  },
  {
   "cell_type": "code",
   "execution_count": 8,
   "metadata": {
    "collapsed": true
   },
   "outputs": [],
   "source": [
    "data = pd.read_csv('data/gbm-data.csv')"
   ]
  },
  {
   "cell_type": "code",
   "execution_count": 9,
   "metadata": {},
   "outputs": [
    {
     "data": {
      "text/html": [
       "<div>\n",
       "<style>\n",
       "    .dataframe thead tr:only-child th {\n",
       "        text-align: right;\n",
       "    }\n",
       "\n",
       "    .dataframe thead th {\n",
       "        text-align: left;\n",
       "    }\n",
       "\n",
       "    .dataframe tbody tr th {\n",
       "        vertical-align: top;\n",
       "    }\n",
       "</style>\n",
       "<table border=\"1\" class=\"dataframe\">\n",
       "  <thead>\n",
       "    <tr style=\"text-align: right;\">\n",
       "      <th></th>\n",
       "      <th>Activity</th>\n",
       "      <th>D1</th>\n",
       "      <th>D2</th>\n",
       "      <th>D3</th>\n",
       "      <th>D4</th>\n",
       "      <th>D5</th>\n",
       "      <th>D6</th>\n",
       "      <th>D7</th>\n",
       "      <th>D8</th>\n",
       "      <th>D9</th>\n",
       "      <th>...</th>\n",
       "      <th>D1767</th>\n",
       "      <th>D1768</th>\n",
       "      <th>D1769</th>\n",
       "      <th>D1770</th>\n",
       "      <th>D1771</th>\n",
       "      <th>D1772</th>\n",
       "      <th>D1773</th>\n",
       "      <th>D1774</th>\n",
       "      <th>D1775</th>\n",
       "      <th>D1776</th>\n",
       "    </tr>\n",
       "  </thead>\n",
       "  <tbody>\n",
       "    <tr>\n",
       "      <th>0</th>\n",
       "      <td>1</td>\n",
       "      <td>0.000000</td>\n",
       "      <td>0.497009</td>\n",
       "      <td>0.10</td>\n",
       "      <td>0.0</td>\n",
       "      <td>0.132956</td>\n",
       "      <td>0.678031</td>\n",
       "      <td>0.273166</td>\n",
       "      <td>0.585445</td>\n",
       "      <td>0.743663</td>\n",
       "      <td>...</td>\n",
       "      <td>0</td>\n",
       "      <td>0</td>\n",
       "      <td>0</td>\n",
       "      <td>0</td>\n",
       "      <td>0</td>\n",
       "      <td>0</td>\n",
       "      <td>0</td>\n",
       "      <td>0</td>\n",
       "      <td>0</td>\n",
       "      <td>0</td>\n",
       "    </tr>\n",
       "    <tr>\n",
       "      <th>1</th>\n",
       "      <td>1</td>\n",
       "      <td>0.366667</td>\n",
       "      <td>0.606291</td>\n",
       "      <td>0.05</td>\n",
       "      <td>0.0</td>\n",
       "      <td>0.111209</td>\n",
       "      <td>0.803455</td>\n",
       "      <td>0.106105</td>\n",
       "      <td>0.411754</td>\n",
       "      <td>0.836582</td>\n",
       "      <td>...</td>\n",
       "      <td>1</td>\n",
       "      <td>1</td>\n",
       "      <td>1</td>\n",
       "      <td>1</td>\n",
       "      <td>0</td>\n",
       "      <td>1</td>\n",
       "      <td>0</td>\n",
       "      <td>0</td>\n",
       "      <td>1</td>\n",
       "      <td>0</td>\n",
       "    </tr>\n",
       "    <tr>\n",
       "      <th>2</th>\n",
       "      <td>1</td>\n",
       "      <td>0.033300</td>\n",
       "      <td>0.480124</td>\n",
       "      <td>0.00</td>\n",
       "      <td>0.0</td>\n",
       "      <td>0.209791</td>\n",
       "      <td>0.610350</td>\n",
       "      <td>0.356453</td>\n",
       "      <td>0.517720</td>\n",
       "      <td>0.679051</td>\n",
       "      <td>...</td>\n",
       "      <td>0</td>\n",
       "      <td>0</td>\n",
       "      <td>0</td>\n",
       "      <td>0</td>\n",
       "      <td>0</td>\n",
       "      <td>0</td>\n",
       "      <td>0</td>\n",
       "      <td>0</td>\n",
       "      <td>0</td>\n",
       "      <td>0</td>\n",
       "    </tr>\n",
       "    <tr>\n",
       "      <th>3</th>\n",
       "      <td>1</td>\n",
       "      <td>0.000000</td>\n",
       "      <td>0.538825</td>\n",
       "      <td>0.00</td>\n",
       "      <td>0.5</td>\n",
       "      <td>0.196344</td>\n",
       "      <td>0.724230</td>\n",
       "      <td>0.235606</td>\n",
       "      <td>0.288764</td>\n",
       "      <td>0.805110</td>\n",
       "      <td>...</td>\n",
       "      <td>0</td>\n",
       "      <td>0</td>\n",
       "      <td>0</td>\n",
       "      <td>0</td>\n",
       "      <td>0</td>\n",
       "      <td>0</td>\n",
       "      <td>0</td>\n",
       "      <td>0</td>\n",
       "      <td>0</td>\n",
       "      <td>0</td>\n",
       "    </tr>\n",
       "    <tr>\n",
       "      <th>4</th>\n",
       "      <td>0</td>\n",
       "      <td>0.100000</td>\n",
       "      <td>0.517794</td>\n",
       "      <td>0.00</td>\n",
       "      <td>0.0</td>\n",
       "      <td>0.494734</td>\n",
       "      <td>0.781422</td>\n",
       "      <td>0.154361</td>\n",
       "      <td>0.303809</td>\n",
       "      <td>0.812646</td>\n",
       "      <td>...</td>\n",
       "      <td>0</td>\n",
       "      <td>0</td>\n",
       "      <td>0</td>\n",
       "      <td>0</td>\n",
       "      <td>0</td>\n",
       "      <td>0</td>\n",
       "      <td>0</td>\n",
       "      <td>0</td>\n",
       "      <td>0</td>\n",
       "      <td>0</td>\n",
       "    </tr>\n",
       "  </tbody>\n",
       "</table>\n",
       "<p>5 rows × 1777 columns</p>\n",
       "</div>"
      ],
      "text/plain": [
       "   Activity        D1        D2    D3   D4        D5        D6        D7  \\\n",
       "0         1  0.000000  0.497009  0.10  0.0  0.132956  0.678031  0.273166   \n",
       "1         1  0.366667  0.606291  0.05  0.0  0.111209  0.803455  0.106105   \n",
       "2         1  0.033300  0.480124  0.00  0.0  0.209791  0.610350  0.356453   \n",
       "3         1  0.000000  0.538825  0.00  0.5  0.196344  0.724230  0.235606   \n",
       "4         0  0.100000  0.517794  0.00  0.0  0.494734  0.781422  0.154361   \n",
       "\n",
       "         D8        D9  ...    D1767  D1768  D1769  D1770  D1771  D1772  D1773  \\\n",
       "0  0.585445  0.743663  ...        0      0      0      0      0      0      0   \n",
       "1  0.411754  0.836582  ...        1      1      1      1      0      1      0   \n",
       "2  0.517720  0.679051  ...        0      0      0      0      0      0      0   \n",
       "3  0.288764  0.805110  ...        0      0      0      0      0      0      0   \n",
       "4  0.303809  0.812646  ...        0      0      0      0      0      0      0   \n",
       "\n",
       "   D1774  D1775  D1776  \n",
       "0      0      0      0  \n",
       "1      0      1      0  \n",
       "2      0      0      0  \n",
       "3      0      0      0  \n",
       "4      0      0      0  \n",
       "\n",
       "[5 rows x 1777 columns]"
      ]
     },
     "execution_count": 9,
     "metadata": {},
     "output_type": "execute_result"
    }
   ],
   "source": [
    "data.head()"
   ]
  },
  {
   "cell_type": "code",
   "execution_count": 10,
   "metadata": {
    "collapsed": true
   },
   "outputs": [],
   "source": [
    "X_train, X_test, y_train, y_test = train_test_split(data.iloc[:, 1:], data['Activity'], \n",
    "                                                    test_size=0.8, random_state=241)"
   ]
  },
  {
   "cell_type": "code",
   "execution_count": 11,
   "metadata": {},
   "outputs": [
    {
     "name": "stdout",
     "output_type": "stream",
     "text": [
      "      Iter       Train Loss   Remaining Time \n",
      "         1           1.0190           11.51s\n",
      "         2           0.9192           11.12s\n",
      "         3           0.8272            9.55s\n",
      "         4           0.7834            8.42s\n",
      "         5           0.7109            8.29s\n",
      "         6           0.6368            8.74s\n",
      "         7           0.5797            8.51s\n",
      "         8           0.5610            7.92s\n",
      "         9           0.5185            7.70s\n",
      "        10           0.4984            7.39s\n",
      "        20           0.1999            7.03s\n",
      "        30           0.1313            6.25s\n",
      "        40           0.0790            5.90s\n",
      "        50           0.0511            5.58s\n",
      "        60           0.0352            5.27s\n",
      "        70           0.0245            4.89s\n",
      "        80           0.0162            4.60s\n",
      "        90           0.0114            4.29s\n",
      "       100           0.0077            4.05s\n",
      "       200           0.0004            1.22s\n"
     ]
    },
    {
     "data": {
      "image/png": "[encoded data removed]",
      "text/plain": [
       "<matplotlib.figure.Figure at 0x1112e3198>"
      ]
     },
     "metadata": {},
     "output_type": "display_data"
    },
    {
     "name": "stdout",
     "output_type": "stream",
     "text": [
      "      Iter       Train Loss   Remaining Time \n",
      "         1           1.1255           13.71s\n",
      "         2           1.0035           13.12s\n",
      "         3           0.9386           12.39s\n",
      "         4           0.8844           11.03s\n",
      "         5           0.8381           10.59s\n",
      "         6           0.7995            9.88s\n",
      "         7           0.7559            9.43s\n",
      "         8           0.7205            9.16s\n",
      "         9           0.6958            8.74s\n",
      "        10           0.6725            8.48s\n",
      "        20           0.4672            7.12s\n",
      "        30           0.3179            6.86s\n",
      "        40           0.2274            6.57s\n",
      "        50           0.1774            6.28s\n",
      "        60           0.1394            6.02s\n",
      "        70           0.1050            5.68s\n",
      "        80           0.0805            5.29s\n",
      "        90           0.0650            4.86s\n",
      "       100           0.0511            4.54s\n",
      "       200           0.0058            1.42s\n"
     ]
    },
    {
     "data": {
      "image/png": "[encoded data removed]",
      "text/plain": [
       "<matplotlib.figure.Figure at 0x1a17cfebe0>"
      ]
     },
     "metadata": {},
     "output_type": "display_data"
    },
    {
     "name": "stdout",
     "output_type": "stream",
     "text": [
      "      Iter       Train Loss   Remaining Time \n",
      "         1           1.2095           10.70s\n",
      "         2           1.1006           10.59s\n",
      "         3           1.0240           10.87s\n",
      "         4           0.9729           10.88s\n",
      "         5           0.9387            9.77s\n",
      "         6           0.8948            9.80s\n",
      "         7           0.8621            9.36s\n",
      "         8           0.8360            8.85s\n",
      "         9           0.8171            8.47s\n",
      "        10           0.7883            8.28s\n",
      "        20           0.6164            7.09s\n",
      "        30           0.4933            6.45s\n",
      "        40           0.4248            5.76s\n",
      "        50           0.3345            5.57s\n",
      "        60           0.2760            5.24s\n",
      "        70           0.2263            4.97s\n",
      "        80           0.1971            4.65s\n",
      "        90           0.1693            4.31s\n",
      "       100           0.1388            4.14s\n",
      "       200           0.0294            1.38s\n"
     ]
    },
    {
     "data": {
      "image/png": "[encoded data removed]",
      "text/plain": [
       "<matplotlib.figure.Figure at 0x1a179baf98>"
      ]
     },
     "metadata": {},
     "output_type": "display_data"
    },
    {
     "name": "stdout",
     "output_type": "stream",
     "text": [
      "      Iter       Train Loss   Remaining Time \n",
      "         1           1.2613           12.51s\n",
      "         2           1.1715           12.33s\n",
      "         3           1.1009           12.35s\n",
      "         4           1.0529           12.19s\n",
      "         5           1.0130           11.99s\n",
      "         6           0.9740           11.67s\n",
      "         7           0.9475           10.76s\n",
      "         8           0.9197           10.66s\n",
      "         9           0.8979           10.08s\n",
      "        10           0.8730            9.98s\n",
      "        20           0.7207            7.61s\n",
      "        30           0.6055            6.79s\n",
      "        40           0.5244            6.16s\n",
      "        50           0.4501            5.78s\n",
      "        60           0.3908            5.39s\n",
      "        70           0.3372            5.07s\n",
      "        80           0.3009            4.82s\n",
      "        90           0.2603            4.55s\n",
      "       100           0.2327            4.21s\n",
      "       200           0.0835            1.34s\n"
     ]
    },
    {
     "data": {
      "image/png": "[encoded data removed]",
      "text/plain": [
       "<matplotlib.figure.Figure at 0x1a179c7a58>"
      ]
     },
     "metadata": {},
     "output_type": "display_data"
    },
    {
     "name": "stdout",
     "output_type": "stream",
     "text": [
      "MIN = 0.531094637596885 IDX = 36\n",
      "      Iter       Train Loss   Remaining Time \n",
      "         1           1.3199           10.34s\n",
      "         2           1.2645           10.27s\n",
      "         3           1.2170           10.34s\n",
      "         4           1.1775           10.47s\n",
      "         5           1.1404           10.82s\n",
      "         6           1.1106           10.85s\n",
      "         7           1.0844           10.98s\n",
      "         8           1.0617           11.11s\n",
      "         9           1.0411           11.58s\n",
      "        10           1.0223           11.67s\n",
      "        20           0.8864            9.75s\n",
      "        30           0.7844            8.36s\n",
      "        40           0.7176            7.38s\n",
      "        50           0.6590            6.58s\n",
      "        60           0.6120            5.98s\n",
      "        70           0.5599            5.55s\n",
      "        80           0.5242            5.10s\n",
      "        90           0.4829            4.80s\n",
      "       100           0.4473            4.45s\n",
      "       200           0.2379            1.47s\n"
     ]
    },
    {
     "data": {
      "image/png": "[encoded data removed]",
      "text/plain": [
       "<matplotlib.figure.Figure at 0x111490668>"
      ]
     },
     "metadata": {},
     "output_type": "display_data"
    }
   ],
   "source": [
    "for n in [1, 0.5, 0.3, 0.2, 0.1]:\n",
    "    model = GradientBoostingClassifier(n_estimators=250, random_state=241, verbose=True, learning_rate=n)\n",
    "    model.fit(X_train, y_train)\n",
    "    pred1 = model.staged_decision_function(X_train)\n",
    "    pred2 = model.staged_decision_function(X_test)\n",
    "    def f(y_pred):\n",
    "        return 1 / (1 + np.exp(-y_pred))\n",
    "    results1 = []\n",
    "    for i in pred1:\n",
    "        results1.append(log_loss(y_train, [f(y) for y in i]))\n",
    "    results2 = []\n",
    "    for i in pred2:\n",
    "        results2.append(log_loss(y_test, [f(y) for y in i]))\n",
    "    plt.figure()\n",
    "    plt.plot(results2, 'r', linewidth=2)\n",
    "    plt.plot(results1, 'g', linewidth=2)\n",
    "    plt.legend(['test', 'train'])\n",
    "    plt.show()\n",
    "    if n == 0.2:\n",
    "        print(f'MIN = {min(results2)} IDX = {results2.index(min(results2))}')"
   ]
  },
  {
   "cell_type": "code",
   "execution_count": 12,
   "metadata": {},
   "outputs": [
    {
     "data": {
      "text/plain": [
       "0.54000000000000004"
      ]
     },
     "execution_count": 12,
     "metadata": {},
     "output_type": "execute_result"
    }
   ],
   "source": [
    "model = RandomForestClassifier(n_estimators=36, random_state=241)\n",
    "model.fit(X_train, y_train)\n",
    "pred = model.predict_proba(X_test)\n",
    "log_loss(y_test, pred).round(2)"
   ]
  },
  {
   "cell_type": "code",
   "execution_count": null,
   "metadata": {
    "collapsed": true
   },
   "outputs": [],
   "source": []
  }
 ],
 "metadata": {
  "kernelspec": {
   "display_name": "Python 3",
   "language": "python",
   "name": "python3"
  },
  "language_info": {
   "codemirror_mode": {
    "name": "ipython",
    "version": 3
   },
   "file_extension": ".py",
   "mimetype": "text/x-python",
   "name": "python",
   "nbconvert_exporter": "python",
   "pygments_lexer": "ipython3",
   "version": "3.6.4"
  }
 },
 "nbformat": 4,
 "nbformat_minor": 2
}
